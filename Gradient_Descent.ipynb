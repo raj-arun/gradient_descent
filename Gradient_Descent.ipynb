{
  "cells": [
    {
      "metadata": {},
      "cell_type": "markdown",
      "source": "#### Implement Gradient Descent in Python"
    },
    {
      "metadata": {
        "trusted": true
      },
      "cell_type": "code",
      "source": "import numpy as np",
      "execution_count": 1,
      "outputs": []
    },
    {
      "metadata": {
        "trusted": true
      },
      "cell_type": "code",
      "source": "x = np.array([1,2,3,4,5])\ny = np.array([5,7,9,11,13])",
      "execution_count": 3,
      "outputs": []
    },
    {
      "metadata": {},
      "cell_type": "markdown",
      "source": "\nWe will be using the following\n - Learning Rate\n - Partial Derivatives \n\nTo know more about derivates check the tutorial on [Mathisforfun.com](https://www.mathsisfun.com/calculus/derivatives-introduction.html)\n\nFormulas for cost function and the partial derviates can be found [here](https://ml-cheatsheet.readthedocs.io/en/latest/gradient_descent.html)"
    },
    {
      "metadata": {
        "trusted": true
      },
      "cell_type": "code",
      "source": "def gradient_descent(x,y):\n    m_curr = b_curr = 0\n    epochs = 1000         # number of iterations\n    learning_rate = 0.07  # learning rate\n    n = len(x)\n    \n    for i in range(epochs):\n        y_predicted = m_curr * x + b_curr    #Prediction        \n        cost = (1/n) * sum([val**2 for val in (y-y_predicted)]) #MSE\n        md = -(2/n) * (sum(x *(y - y_predicted))) #partial derivative of m\n        bd = -(2/n) * (sum ( y - y_predicted))    #partial derivative of b\n        m_curr = m_curr - learning_rate * md      # new m_curr\n        b_curr = b_curr - learning_rate * bd      # new b_curr\n        \n        #print cost, m, b, step\n        # un comment the below line to see the changes for each step\n        #print(\"m {} , b {}, cost {}, step {}\".format(m_curr, b_curr, cost, i))\n    return(m_curr, b_curr)",
      "execution_count": 33,
      "outputs": []
    },
    {
      "metadata": {
        "trusted": true
      },
      "cell_type": "code",
      "source": "m,b = gradient_descent(x,y)\nprint(\"m = {} , b = {}\".format(m,b))",
      "execution_count": 34,
      "outputs": [
        {
          "output_type": "stream",
          "text": "m = 2.0000000000249396 , b = 2.9999999999099587\n",
          "name": "stdout"
        }
      ]
    }
  ],
  "metadata": {
    "kernelspec": {
      "name": "python36",
      "display_name": "Python 3.6",
      "language": "python"
    },
    "language_info": {
      "mimetype": "text/x-python",
      "nbconvert_exporter": "python",
      "name": "python",
      "pygments_lexer": "ipython3",
      "version": "3.6.3",
      "file_extension": ".py",
      "codemirror_mode": {
        "version": 3,
        "name": "ipython"
      }
    }
  },
  "nbformat": 4,
  "nbformat_minor": 2
}